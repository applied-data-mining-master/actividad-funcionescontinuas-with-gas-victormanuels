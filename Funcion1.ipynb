{
  "nbformat": 4,
  "nbformat_minor": 0,
  "metadata": {
    "colab": {
      "name": "Funcion2.ipynb",
      "provenance": [],
      "collapsed_sections": []
    },
    "kernelspec": {
      "name": "python3",
      "display_name": "Python 3"
    }
  },
  "cells": [
    {
      "cell_type": "code",
      "metadata": {
        "id": "d4JyNhE2MZRv",
        "colab_type": "code",
        "colab": {}
      },
      "source": [
        "import random\n",
        "import numpy;\n",
        "\n",
        "\n"
      ],
      "execution_count": 4,
      "outputs": []
    },
    {
      "cell_type": "code",
      "metadata": {
        "id": "xqQtaV2KPKiX",
        "colab_type": "code",
        "colab": {}
      },
      "source": [
        "def getInitialPoblation(sizePoblation,sizeElement,args):\n",
        "  poblation=[]\n",
        "  for y in range(sizePoblation):\n",
        "    element=[]\n",
        "    for x in range(sizeElement):\n",
        "      element.append(random.randint(0,1))\n",
        "    poblation.append(elementClass(element,args['min'],args['max']))\n",
        "\n",
        "  return poblation"
      ],
      "execution_count": 5,
      "outputs": []
    },
    {
      "cell_type": "code",
      "metadata": {
        "id": "bSV3pl4YPv9K",
        "colab_type": "code",
        "colab": {}
      },
      "source": [
        "#    math.ceil(math.log(1 + ((args.x_max - args.x_min)/args.tol), 2))\n",
        "\n",
        "def getArraySize(args):\n",
        "  return math.ceil(math.log(1 + ((args['max'] - args['min'])/args['tol']), 2))\n",
        "   "
      ],
      "execution_count": 6,
      "outputs": []
    },
    {
      "cell_type": "code",
      "metadata": {
        "id": "PLaXzZ91SX84",
        "colab_type": "code",
        "colab": {}
      },
      "source": [
        "import operator\n",
        "\n",
        "def etilist(poblation,reverse,poblationSize):\n",
        "  et=(poblationSize*2/100)\n",
        "\n",
        "  poblation.sort(key=operator.attrgetter('adaptation'), reverse=reverse)\n",
        "\n",
        "  for idx, element in enumerate(poblation):\n",
        "    if(idx<et):\n",
        "      element.isElite=True\n",
        "    else:\n",
        "      element.isElite=False\n",
        "      \n",
        "  return poblation[0:poblationSize]\n",
        "   \n"
      ],
      "execution_count": 7,
      "outputs": []
    },
    {
      "cell_type": "code",
      "metadata": {
        "id": "kjkSD1yla-vf",
        "colab_type": "code",
        "colab": {}
      },
      "source": [
        "def couplesRoullete(poblation,total):\n",
        "  sumAdaptation=0\n",
        "  totalPoblation=len(poblation)\n",
        "  for x in range(totalPoblation):\n",
        "    sumAdaptation=sumAdaptation+poblation[x].adaptation\n",
        "\n",
        "  pi=[]\n",
        "  qi=[]\n",
        "  for x in range(totalPoblation):\n",
        "    poblation[x].pi=(poblation[x].adaptation/sumAdaptation)\n",
        "    if(x!=0):\n",
        "      poblation[x].qi=(poblation[x].pi+poblation[x-1].qi)\n",
        "    else:\n",
        "      poblation[x].qi=(poblation[0].pi)  \n",
        "\n",
        "  selection=[]\n",
        "  for x in range(total):\n",
        "    s1=numpy.random.random_sample()\n",
        "    for y in range((totalPoblation)):\n",
        "      if s1<poblation[y].qi:\n",
        "        c1=y\n",
        "        \n",
        "    selection.append(poblation[c1])   \n",
        "\n",
        "  return selection;\n",
        "\n"
      ],
      "execution_count": 8,
      "outputs": []
    },
    {
      "cell_type": "code",
      "metadata": {
        "id": "r2CNR79I0Jyl",
        "colab_type": "code",
        "colab": {}
      },
      "source": [
        ""
      ],
      "execution_count": 8,
      "outputs": []
    },
    {
      "cell_type": "code",
      "metadata": {
        "id": "voI3irL5LqMa",
        "colab_type": "code",
        "colab": {}
      },
      "source": [
        "def mutation(poblation,prob):\n",
        "  for element in  poblation:\n",
        "    s1=numpy.random.random_sample()\n",
        "    if s1<=prob and not element.isElite:\n",
        "      element.mutation();\n",
        "  return poblation\n",
        "\n",
        "\n",
        "\n"
      ],
      "execution_count": 9,
      "outputs": []
    },
    {
      "cell_type": "code",
      "metadata": {
        "id": "mYz4ApjX8Vxx",
        "colab_type": "code",
        "colab": {}
      },
      "source": [
        "import math\n",
        "\n",
        "class elementClass:\n",
        "  \n",
        "  def __init__(self, binaryData,min,max):\n",
        "    self.binaryData = binaryData\n",
        "    self.min=min\n",
        "    self.max=max\n",
        "    self.intValue=self.getIntegerValue()\n",
        "    self.floatValue=self.getFloatValue()\n",
        "    self.adaptation=self.adaptationForm()\n",
        "    self.qi=0\n",
        "    self.pi=0\n",
        "    self.isElite=False\n",
        "    #print(self.floatValue)\n",
        "    #print(self.adaptation)\n",
        "    #print(\"\")\n",
        "    \n",
        "  def mutation(self):\n",
        "    elementSize=len(self.binaryData)\n",
        "    index= random.randint(0,elementSize-1)\n",
        "    if self.binaryData[index]==1:\n",
        "      self.binaryData[index]=0\n",
        "    else:\n",
        "      self.binaryData[index]=1\n",
        "    self.intValue=self.getIntegerValue()\n",
        "    self.floatValue=self.getFloatValue()\n",
        "    self.adaptation=self.adaptationForm()\n",
        "\n",
        "\n",
        "\n",
        "  def getFloatValue(self):\n",
        "    return self.min+self.intValue*( (self.max-self.min)/ (  (2**len(self.binaryData)) -1))\n",
        "\n",
        "  def getIntegerValue(self): \n",
        "    binary = ''.join(map(str,self.binaryData)) \n",
        "    return (int(str(binary), 2))\n",
        "    \n",
        "  def adaptationForm(self):\n",
        "    #return (20+math.exp(1)-20*math.exp(-0.2*abs(self.floatValue)) - math.exp(math.cos(2*3.1416*self.floatValue)))\n",
        "    return self.floatValue + abs(math.sin(32*math.pi*self.floatValue))\n",
        "    #return  - abs(self.floatValue* (math.sin ( math.sqrt(abs(self.floatValue))    ) )  )\n",
        "    #return 1+((math.cos(self.floatValue))/(1+0.01*self.floatValue**2))\n",
        "    #return  ((math.sin(self.floatValue))/( 1 + math.sqrt( self.floatValue) +   ((math.cos(self.floatValue))/(1+self.floatValue))  ))\n",
        "\n",
        " "
      ],
      "execution_count": 10,
      "outputs": []
    },
    {
      "cell_type": "code",
      "metadata": {
        "id": "KChtpVmhXrVE",
        "colab_type": "code",
        "colab": {}
      },
      "source": [
        "def reproduction(prob,selection,elementSize):\n",
        "  couples=[]\n",
        "\n",
        "  for x in range(len(selection)):\n",
        "    if(numpy.random.random_sample()<=prob):\n",
        "      couples.append(selection[x])\n",
        "  \n",
        "  if len(couples) %2 !=0:\n",
        "    couples.pop()\n",
        "\n",
        "  \n",
        "  cruce=random.randint(1,elementSize-1)\n",
        "  sons=[]\n",
        "  for x in range(0,len(couples),2):\n",
        "    son1=couples[x].binaryData[0:cruce]+couples[x+1].binaryData[cruce:elementSize-1]\n",
        "    son2=couples[x+1].binaryData[0:cruce]+couples[x].binaryData[cruce:elementSize-1]\n",
        "    sons.append(elementClass(son1,couples[x].min,couples[x].max))\n",
        "    sons.append(elementClass(son2,couples[x].min,couples[x].max))\n",
        "  return sons"
      ],
      "execution_count": 11,
      "outputs": []
    },
    {
      "cell_type": "code",
      "metadata": {
        "id": "H_hTQfnb-Seh",
        "colab_type": "code",
        "colab": {}
      },
      "source": [
        "import matplotlib.pyplot as plt\n",
        "import numpy as np\n",
        "import pandas as pd\n",
        "import seaborn as sns\n",
        "\n",
        "args={'min':0,'max':1,'tol':0.00001}\n",
        "\n",
        "elementSize=getArraySize(args)\n",
        "poblationSize=1000\n",
        "newPoblation=getInitialPoblation(poblationSize,elementSize,args)\n",
        "\n",
        "generations=10000\n",
        "reverse=True\n",
        "sons=[]\n",
        "gainM=[]\n",
        "\n",
        "for x in range(generations): \n",
        "  newPoblation=etilist(newPoblation+sons,reverse,poblationSize)\n",
        "\n",
        "  gainM.append(newPoblation[0].floatValue)\n",
        "  if x == (generations-1):\n",
        "    break;\n",
        "    \n",
        "  selection=couplesRoullete(newPoblation,poblationSize)\n",
        "  sons=reproduction(0.90,selection,elementSize)\n",
        "  sons=mutation(sons,0.1)\n",
        "  \n",
        "\n",
        "print(newPoblation[0].adaptation)\n",
        "print(newPoblation[0].floatValue)\n",
        "print(newPoblation[0].intValue)\n",
        "print(newPoblation[0].binaryData)\n",
        " \n"
      ],
      "execution_count": null,
      "outputs": []
    },
    {
      "cell_type": "code",
      "metadata": {
        "id": "x9yIVZWBYD0v",
        "colab_type": "code",
        "colab": {
          "base_uri": "https://localhost:8080/",
          "height": 265
        },
        "outputId": "9baf2a12-37fe-4375-993b-b21ebc0c03d9"
      },
      "source": [
        "import numpy as np\n",
        "\n",
        "plt.plot(range(0,100), gainM, 'r--')\n",
        "plt.show()"
      ],
      "execution_count": null,
      "outputs": [
        {
          "output_type": "display_data",
          "data": {
            "image/png": "[encoded data removed]",
            "text/plain": [
              "<Figure size 432x288 with 1 Axes>"
            ]
          },
          "metadata": {
            "tags": [],
            "needs_background": "light"
          }
        }
      ]
    },
    {
      "cell_type": "code",
      "metadata": {
        "id": "1-yBBPVIdJPM",
        "colab_type": "code",
        "colab": {}
      },
      "source": [
        ""
      ],
      "execution_count": null,
      "outputs": []
    }
  ]
}